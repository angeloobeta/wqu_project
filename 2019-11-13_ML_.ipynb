{
 "cells": [
  {
   "cell_type": "code",
   "execution_count": 2,
   "metadata": {},
   "outputs": [],
   "source": [
    "import pandas as pd\n",
    "import matplotlib.pyplot as plt\n",
    "from ipywidgets import widgets\n",
    "from sklearn.linear_model import LogisticRegression\n",
    "from sklearn.model_selection import train_test_split\n",
    "from sklearn.metrics import f1_score\n",
    "from sklearn.compose import ColumnTransformer\n",
    "from sklearn.preprocessing import OneHotEncoder\n",
    "from sklearn.pipeline import Pipeline\n",
    "from sklearn.decomposition import PCA, TruncatedSVD"
   ]
  },
  {
   "cell_type": "markdown",
   "metadata": {},
   "source": [
    "# Get Data from Website"
   ]
  },
  {
   "cell_type": "code",
   "execution_count": null,
   "metadata": {},
   "outputs": [],
   "source": [
    "!wget https://s3.amazonaws.com/drivendata/data/57/public/train_values.csv -nc -P ./nepal/\n",
    "!wget https://s3.amazonaws.com/drivendata/data/57/public/train_labels.csv -nc -P ./nepal/\n",
    "!wget https://s3.amazonaws.com/drivendata/data/57/public/test_values.csv -nc -P ./nepal/"
   ]
  },
  {
   "cell_type": "markdown",
   "metadata": {},
   "source": [
    "# Import Data"
   ]
  },
  {
   "cell_type": "code",
   "execution_count": 3,
   "metadata": {},
   "outputs": [],
   "source": [
    "X = pd.read_csv('./nepal/train_values.csv', \n",
    "                index_col='building_id', \n",
    "                dtype={'geo_level_1_id': 'object',\n",
    "                       'geo_level_2_id': 'object',\n",
    "                       'geo_level_3_id': 'object'})\n",
    "\n",
    "y = pd.read_csv('nepal/train_labels.csv', index_col='building_id')['damage_grade']"
   ]
  },
  {
   "cell_type": "markdown",
   "metadata": {
    "heading_collapsed": true
   },
   "source": [
    "# Attempt 1: Model w/ One Feature"
   ]
  },
  {
   "cell_type": "code",
   "execution_count": null,
   "metadata": {
    "hidden": true
   },
   "outputs": [],
   "source": [
    "def housing_plot(X, y):\n",
    "    def plotter(column):\n",
    "        valid_rows = X[column].notna()\n",
    "        plt.plot(X.loc[valid_rows, column], y[valid_rows], '.', color='k')\n",
    "        plt.ylabel('Damage Level')\n",
    "        plt.yticks([1,2,3])\n",
    "    \n",
    "    return plotter\n",
    "\n",
    "dropdown_values = sorted(X.columns)\n",
    "widgets.interact(housing_plot(X, y), column=dropdown_values);"
   ]
  },
  {
   "cell_type": "code",
   "execution_count": null,
   "metadata": {
    "hidden": true
   },
   "outputs": [],
   "source": [
    "X_height = X[['height_percentage']]\n",
    "X_height.head()"
   ]
  },
  {
   "cell_type": "markdown",
   "metadata": {
    "hidden": true
   },
   "source": [
    "## Train-test split"
   ]
  },
  {
   "cell_type": "code",
   "execution_count": null,
   "metadata": {
    "hidden": true
   },
   "outputs": [],
   "source": [
    "X_train, X_test, y_train, y_test = train_test_split(X_height, \n",
    "                                                    y, \n",
    "                                                    test_size=0.2, \n",
    "                                                    random_state=42)"
   ]
  },
  {
   "cell_type": "code",
   "execution_count": null,
   "metadata": {
    "hidden": true
   },
   "outputs": [],
   "source": [
    "one_feat_model = LogisticRegression(solver='lbfgs', multi_class='auto')\n",
    "one_feat_model.fit(X_train, y_train)"
   ]
  },
  {
   "cell_type": "code",
   "execution_count": null,
   "metadata": {
    "hidden": true
   },
   "outputs": [],
   "source": [
    "y_train_pred = one_feat_model.predict(X_train)"
   ]
  },
  {
   "cell_type": "markdown",
   "metadata": {
    "hidden": true
   },
   "source": [
    "## Compare in- and out-sample metrics (f1 score)"
   ]
  },
  {
   "cell_type": "code",
   "execution_count": null,
   "metadata": {
    "hidden": true
   },
   "outputs": [],
   "source": [
    "print('In-sample f1 score:')\n",
    "f1_score(y_train, y_train_pred, average='micro')"
   ]
  },
  {
   "cell_type": "code",
   "execution_count": null,
   "metadata": {
    "hidden": true
   },
   "outputs": [],
   "source": [
    "y_test_pred = one_feat_model.predict(X_test)\n",
    "print('Out-sample f1 score:')\n",
    "f1_score(y_test, y_test_pred, average='micro')"
   ]
  },
  {
   "cell_type": "markdown",
   "metadata": {
    "hidden": true
   },
   "source": [
    "## Create submission"
   ]
  },
  {
   "cell_type": "code",
   "execution_count": null,
   "metadata": {
    "hidden": true
   },
   "outputs": [],
   "source": [
    "X_comp_test = pd.read_csv('nepal/test_values.csv', index_col='building_id')\n",
    "X_comp_test.head()"
   ]
  },
  {
   "cell_type": "code",
   "execution_count": null,
   "metadata": {
    "hidden": true
   },
   "outputs": [],
   "source": [
    "y_comp_pred = one_feat_model.predict(X_comp_test[['height_percentage']])"
   ]
  },
  {
   "cell_type": "code",
   "execution_count": null,
   "metadata": {
    "hidden": true
   },
   "outputs": [],
   "source": [
    "y_submission = pd.DataFrame(y_comp_pred, index=X_comp_test.index, columns=['damage_grade'])"
   ]
  },
  {
   "cell_type": "code",
   "execution_count": null,
   "metadata": {
    "hidden": true
   },
   "outputs": [],
   "source": [
    "y_submission.to_csv('nepal/2019-11-11_submission.csv')"
   ]
  },
  {
   "cell_type": "markdown",
   "metadata": {
    "hidden": true
   },
   "source": [
    "**Score: 0.56**"
   ]
  },
  {
   "cell_type": "markdown",
   "metadata": {},
   "source": [
    "# Create Functions for Repetitive Tasks"
   ]
  },
  {
   "cell_type": "code",
   "execution_count": 4,
   "metadata": {},
   "outputs": [],
   "source": [
    "def create_submission(model, X_cols=None):\n",
    "    X = pd.read_csv('./nepal/test_values.csv', \n",
    "                    index_col='building_id', \n",
    "                    dtype={'geo_level_1_id': 'object',\n",
    "                           'geo_level_2_id': 'object',\n",
    "                           'geo_level_3_id': 'object'})\n",
    "    if X_cols != None:\n",
    "        X = X[X_cols]\n",
    "    y_pred = model.predict(X)\n",
    "    submission = pd.DataFrame(y_pred, index=X.index, \n",
    "                              columns=['damage_grade'])\n",
    "    date_string = pd.Timestamp.utcnow().strftime(format='%Y-%m-%d_%H%M_')\n",
    "    submission.to_csv(f'nepal/{date_string}submission.csv')\n",
    "\n",
    "def get_metrics(model, X_train, X_test, y_train, y_test):\n",
    "    y_train_pred = model.predict(X_train)\n",
    "    y_test_pred = model.predict(X_test)\n",
    "    in_samp_score = f1_score(y_train, y_train_pred, average='micro')\n",
    "    out_samp_score = f1_score(y_test, y_test_pred, average='micro')\n",
    "    print('In-sample f1 score:', in_samp_score)\n",
    "    print('Out-sample f1 score:', out_samp_score)"
   ]
  },
  {
   "cell_type": "markdown",
   "metadata": {
    "heading_collapsed": true
   },
   "source": [
    "# Attempt 2: Model w/ All Numerical Features"
   ]
  },
  {
   "cell_type": "code",
   "execution_count": null,
   "metadata": {
    "hidden": true
   },
   "outputs": [],
   "source": [
    "X.head()"
   ]
  },
  {
   "cell_type": "code",
   "execution_count": null,
   "metadata": {
    "hidden": true
   },
   "outputs": [],
   "source": [
    "numerical_features = [col for col in X.columns if X[col].dtype == 'int64']\n",
    "# Another way: list(X.describe().columns)"
   ]
  },
  {
   "cell_type": "code",
   "execution_count": null,
   "metadata": {
    "hidden": true
   },
   "outputs": [],
   "source": [
    "X_train, X_test, y_train, y_test = train_test_split(X, y, \n",
    "                                                    test_size=0.2, \n",
    "                                                    random_state=42)"
   ]
  },
  {
   "cell_type": "code",
   "execution_count": null,
   "metadata": {
    "hidden": true
   },
   "outputs": [],
   "source": [
    "num_feat_model = LogisticRegression(solver='lbfgs', \n",
    "                                    max_iter=1000, \n",
    "                                    multi_class='auto')\n",
    "num_feat_model.fit(X_train[numerical_features], y_train)\n",
    "y_train_pred = num_feat_model.predict(X_train[numerical_features])\n",
    "\n",
    "print('In-sample f1 score:')\n",
    "f1_score(y_train, y_train_pred, average='micro')"
   ]
  },
  {
   "cell_type": "code",
   "execution_count": null,
   "metadata": {
    "hidden": true
   },
   "outputs": [],
   "source": [
    "y_test_pred = num_feat_model.predict(X_test[numerical_features])\n",
    "\n",
    "print('Out-sample f1 score:')\n",
    "f1_score(y_test, y_test_pred, average='micro')"
   ]
  },
  {
   "cell_type": "markdown",
   "metadata": {
    "heading_collapsed": true
   },
   "source": [
    "# Attempt 3: Numerical Features w/ Another Predictor"
   ]
  },
  {
   "cell_type": "code",
   "execution_count": null,
   "metadata": {
    "hidden": true
   },
   "outputs": [],
   "source": [
    "from sklearn.ensemble import GradientBoostingClassifier\n",
    "\n",
    "xg_num_model = GradientBoostingClassifier()\n",
    "xg_num_model.fit(X_train[numerical_features], y_train)\n",
    "y_train_pred = xg_num_model.predict(X_train[numerical_features])\n",
    "\n",
    "print('In-sample f1 score:')\n",
    "f1_score(y_train, y_train_pred, average='micro')"
   ]
  },
  {
   "cell_type": "code",
   "execution_count": null,
   "metadata": {
    "hidden": true
   },
   "outputs": [],
   "source": [
    "y_test_pred = xg_num_model.predict(X_test[numerical_features])\n",
    "\n",
    "print('Out-sample f1 score:')\n",
    "f1_score(y_test, y_test_pred, average='micro')"
   ]
  },
  {
   "cell_type": "code",
   "execution_count": null,
   "metadata": {
    "hidden": true
   },
   "outputs": [],
   "source": [
    "create_submission(xg_num_model, numerical_features)"
   ]
  },
  {
   "cell_type": "markdown",
   "metadata": {},
   "source": [
    "# Attempt 4: Use all features (numeric and categorical)"
   ]
  },
  {
   "cell_type": "code",
   "execution_count": 5,
   "metadata": {},
   "outputs": [],
   "source": [
    "categorical_variables = [col for col in X.columns\n",
    "                         if X[col].dtype == 'object']\n",
    "\n",
    "X_train, X_test, y_train, y_test = train_test_split(X, y, test_size=.2, \n",
    "                                                    random_state=42)"
   ]
  },
  {
   "cell_type": "code",
   "execution_count": null,
   "metadata": {},
   "outputs": [],
   "source": [
    "ct = ColumnTransformer([\n",
    "    ('ohe', OneHotEncoder(handle_unknown='ignore'), categorical_variables)],\n",
    "    remainder='passthrough')\n",
    "\n",
    "all_feat_model = Pipeline([\n",
    "    ('transformer', ct),\n",
    "    ('reduction', TruncatedSVD(n_components=100)),\n",
    "    ('classifier', LogisticRegression(solver='lbfgs', multi_class='auto'))\n",
    "])\n",
    "\n",
    "all_feat_model.fit(X, y);"
   ]
  },
  {
   "cell_type": "code",
   "execution_count": null,
   "metadata": {},
   "outputs": [],
   "source": [
    "y_pred = all_feat_model.predict(X)\n",
    "f1_score(y_pred, y, average='micro')"
   ]
  },
  {
   "cell_type": "code",
   "execution_count": null,
   "metadata": {},
   "outputs": [],
   "source": [
    "create_submission(all_feat_model)"
   ]
  },
  {
   "cell_type": "code",
   "execution_count": null,
   "metadata": {},
   "outputs": [],
   "source": []
  }
 ],
 "metadata": {
  "kernelspec": {
   "display_name": "Python 3",
   "language": "python",
   "name": "python3"
  },
  "language_info": {
   "codemirror_mode": {
    "name": "ipython",
    "version": 3
   },
   "file_extension": ".py",
   "mimetype": "text/x-python",
   "name": "python",
   "nbconvert_exporter": "python",
   "pygments_lexer": "ipython3",
   "version": "3.7.3"
  }
 },
 "nbformat": 4,
 "nbformat_minor": 2
}
